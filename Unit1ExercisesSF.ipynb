{
  "nbformat": 4,
  "nbformat_minor": 0,
  "metadata": {
    "colab": {
      "provenance": [],
      "include_colab_link": true
    },
    "kernelspec": {
      "name": "python3",
      "display_name": "Python 3"
    },
    "language_info": {
      "name": "python"
    }
  },
  "cells": [
    {
      "cell_type": "markdown",
      "metadata": {
        "id": "view-in-github",
        "colab_type": "text"
      },
      "source": [
        "<a href=\"https://colab.research.google.com/github/Corry-Grodek/DataScience/blob/main/Unit1ExercisesSF.ipynb\" target=\"_parent\"><img src=\"https://colab.research.google.com/assets/colab-badge.svg\" alt=\"Open In Colab\"/></a>"
      ]
    },
    {
      "cell_type": "markdown",
      "source": [
        "# Unit 1 Exercises: Data Structure Concepts\n",
        "\n",
        "The following questions will ask you to describe the various objects we learned about in the first Unit.\n",
        "\n",
        "I'm not giving you coding exercises, because we will learn all the coding technqiues we need as we move through the course.\n",
        "\n",
        "What I do need from you right now, is a conceptual understanding how how data is stored in our computer, when we use python."
      ],
      "metadata": {
        "id": "65OCktLjbZmA"
      }
    },
    {
      "cell_type": "markdown",
      "source": [
        "**Task1**:\n",
        "\n",
        "Describe the similarities and differences between an int and a float in python."
      ],
      "metadata": {
        "id": "bt0bWe1evLtv"
      }
    },
    {
      "cell_type": "markdown",
      "source": [
        "**Answer1**:\n",
        "\n",
        "An int can only store whole numbers, a float can have numbers with decimals. \"Float\" means the decimal is floating, so it can be anywhere in the number, for example 4000.1 and 4.0001 are both valid floats. 4000 is an int, same as -4000 but they can not have decimal point."
      ],
      "metadata": {
        "id": "FW3KHt4yvt90"
      }
    },
    {
      "cell_type": "markdown",
      "source": [
        "**Task2**:\n",
        "\n",
        "Describe the similarities and differences between: strings, lists, and dicts."
      ],
      "metadata": {
        "id": "mJ_i6he5wwgr"
      }
    },
    {
      "cell_type": "markdown",
      "source": [
        "**Answer2**:\n",
        "\n",
        "A string can hold text values and number values, but has no way to address the values besides their number in the string. A list can hold multiple types of values separated by commas. Lists address items using an index number. A dict can hold any type of value, but stores items with a key instead of an index."
      ],
      "metadata": {
        "id": "iFu5BKyWw98T"
      }
    },
    {
      "cell_type": "markdown",
      "source": [
        "**Task3**:\n",
        "\n",
        "What is a numpy array? Why would we ever use one over a list or dict?"
      ],
      "metadata": {
        "id": "56v05s45yBHk"
      }
    },
    {
      "cell_type": "markdown",
      "source": [
        "**Answer3**:\n",
        "\n",
        "Numpy arrays are much faster than lists or dicts. A numpy array will automaticaly convert all the values stored to the same type, and can convert numbers to scientific notation. You can also perform math operations on numpy arrays easier than on lists or dicts."
      ],
      "metadata": {
        "id": "eikgxyNzyLTY"
      }
    },
    {
      "cell_type": "markdown",
      "source": [
        "**Task4**:\n",
        "\n",
        "What is a pandas dataframe? Why would we ever want to use one over a numpy array?"
      ],
      "metadata": {
        "id": "RLaEQ5irywBl"
      }
    },
    {
      "cell_type": "markdown",
      "source": [
        "**Answer4**:\n",
        "\n",
        "A pandas dataframe makes sorting and proccessing data easier, using rows and collumns instad of just one index like lists or dicts. It is easier to search for items through column or rows. They also produce a table that is easier to read as an person."
      ],
      "metadata": {
        "id": "5IkNlzYpy-HP"
      }
    },
    {
      "cell_type": "markdown",
      "source": [
        "**Task5**:\n",
        "\n",
        "What are for loops, and why would we ever use them?"
      ],
      "metadata": {
        "id": "khRn2d7qz1Y2"
      }
    },
    {
      "cell_type": "markdown",
      "source": [
        "**Answer5**:\n",
        "\n",
        "A for loop will repeat code a set number of times. They are useful for iterating through a proccess for all the items in a data set. For example, looking through all the rows in a panda dataframe one by one in order."
      ],
      "metadata": {
        "id": "NAdVfRZB1d9J"
      }
    }
  ]
}